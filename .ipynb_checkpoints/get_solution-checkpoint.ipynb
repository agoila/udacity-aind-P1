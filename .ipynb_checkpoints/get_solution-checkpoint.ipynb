{
 "cells": [
  {
   "cell_type": "code",
   "execution_count": 1,
   "metadata": {
    "collapsed": true,
    "deletable": true,
    "editable": true
   },
   "outputs": [],
   "source": [
    "import solution"
   ]
  },
  {
   "cell_type": "code",
   "execution_count": 2,
   "metadata": {
    "collapsed": true,
    "deletable": true,
    "editable": true
   },
   "outputs": [],
   "source": [
    "diag_grid = '9.1....8.8.5.7..4.2.4....6...7......5..............83.3..6......9................'"
   ]
  },
  {
   "cell_type": "code",
   "execution_count": 3,
   "metadata": {
    "collapsed": false,
    "deletable": true,
    "editable": true
   },
   "outputs": [],
   "source": [
    "step1 = solution.grid_values(diag_grid)"
   ]
  },
  {
   "cell_type": "code",
   "execution_count": 4,
   "metadata": {
    "collapsed": false,
    "deletable": true,
    "editable": true
   },
   "outputs": [
    {
     "name": "stdout",
     "output_type": "stream",
     "text": [
      "    9     123456789     1     |123456789 123456789 123456789 |123456789     8     123456789 \n",
      "    8     123456789     5     |123456789     7     123456789 |123456789     4     123456789 \n",
      "    2     123456789     4     |123456789 123456789 123456789 |123456789     6     123456789 \n",
      "------------------------------+------------------------------+------------------------------\n",
      "123456789 123456789     7     |123456789 123456789 123456789 |123456789 123456789 123456789 \n",
      "    5     123456789 123456789 |123456789 123456789 123456789 |123456789 123456789 123456789 \n",
      "123456789 123456789 123456789 |123456789 123456789 123456789 |    8         3     123456789 \n",
      "------------------------------+------------------------------+------------------------------\n",
      "    3     123456789 123456789 |    6     123456789 123456789 |123456789 123456789 123456789 \n",
      "123456789     9     123456789 |123456789 123456789 123456789 |123456789 123456789 123456789 \n",
      "123456789 123456789 123456789 |123456789 123456789 123456789 |123456789 123456789 123456789 \n"
     ]
    }
   ],
   "source": [
    "solution.display(step1)"
   ]
  },
  {
   "cell_type": "code",
   "execution_count": 5,
   "metadata": {
    "collapsed": true,
    "deletable": true,
    "editable": true
   },
   "outputs": [],
   "source": [
    "step2 = solution.reduce_puzzle(step1)"
   ]
  },
  {
   "cell_type": "code",
   "execution_count": 6,
   "metadata": {
    "collapsed": false,
    "deletable": true,
    "editable": true
   },
   "outputs": [
    {
     "name": "stdout",
     "output_type": "stream",
     "text": [
      "    9       367       1    |   2345    23456    23456  |   2357      8       2357  \n",
      "    8        36       5    |   1239      7      12369  |   1239      4       1239  \n",
      "    2        37       4    |  13589    13589    13589  |   1357      6      13579  \n",
      "---------------------------+---------------------------+---------------------------\n",
      "   146     12468      7    |  12358   12345689  123568 |  124569    1259    124569 \n",
      "    5      12468      3    |  124789    1268   1246789 |  124679    1279    124679 \n",
      "   146      1246      9    |   1257    12456    12567  |    8        3      124567 \n",
      "---------------------------+---------------------------+---------------------------\n",
      "    3      124578     28   |    6      124589  1245789 |   1257    12579   1245789 \n",
      "   1467      9       268   | 1234578   123458  1234578 | 1234567    1257   12345678\n",
      "   167    1245678    268   | 12345789 1234589  12345789| 12345679  12579   1235678 \n"
     ]
    }
   ],
   "source": [
    "solution.display(step2)"
   ]
  },
  {
   "cell_type": "code",
   "execution_count": 7,
   "metadata": {
    "collapsed": false,
    "deletable": true,
    "editable": true
   },
   "outputs": [],
   "source": [
    "step3 = solution.search(step2)"
   ]
  },
  {
   "cell_type": "code",
   "execution_count": 8,
   "metadata": {
    "collapsed": false,
    "deletable": true,
    "editable": true
   },
   "outputs": [
    {
     "name": "stdout",
     "output_type": "stream",
     "text": [
      "9 6 1 |3 5 4 |2 8 7 \n",
      "8 3 5 |2 7 6 |1 4 9 \n",
      "2 7 4 |8 9 1 |3 6 5 \n",
      "------+------+------\n",
      "4 2 7 |1 3 8 |9 5 6 \n",
      "5 8 3 |9 6 2 |7 1 4 \n",
      "6 1 9 |5 4 7 |8 3 2 \n",
      "------+------+------\n",
      "3 4 2 |6 8 9 |5 7 1 \n",
      "7 9 8 |4 1 5 |6 2 3 \n",
      "1 5 6 |7 2 3 |4 9 8 \n"
     ]
    }
   ],
   "source": [
    "solution.display(step3)"
   ]
  },
  {
   "cell_type": "code",
   "execution_count": null,
   "metadata": {
    "collapsed": true
   },
   "outputs": [],
   "source": []
  }
 ],
 "metadata": {
  "kernelspec": {
   "display_name": "Python 3",
   "language": "python",
   "name": "python3"
  },
  "language_info": {
   "codemirror_mode": {
    "name": "ipython",
    "version": 3
   },
   "file_extension": ".py",
   "mimetype": "text/x-python",
   "name": "python",
   "nbconvert_exporter": "python",
   "pygments_lexer": "ipython3",
   "version": "3.6.0"
  }
 },
 "nbformat": 4,
 "nbformat_minor": 2
}
