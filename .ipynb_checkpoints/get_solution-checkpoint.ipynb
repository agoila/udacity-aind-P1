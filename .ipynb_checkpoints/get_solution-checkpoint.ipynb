{
 "cells": [
  {
   "cell_type": "code",
   "execution_count": 1,
   "metadata": {
    "collapsed": true,
    "deletable": true,
    "editable": true
   },
   "outputs": [],
   "source": [
    "import solution\n",
    "import itertools"
   ]
  },
  {
   "cell_type": "code",
   "execution_count": 2,
   "metadata": {
    "collapsed": true,
    "deletable": true,
    "editable": true
   },
   "outputs": [],
   "source": [
    "values = {\"G7\": \"2345678\", \"G6\": \"1236789\", \"G5\": \"23456789\", \"G4\": \"345678\",\n",
    "\"G3\": \"1234569\", \"G2\": \"12345678\", \"G1\": \"23456789\", \"G9\": \"24578\",\n",
    "\"G8\": \"345678\", \"C9\": \"124578\", \"C8\": \"3456789\", \"C3\": \"1234569\",\n",
    "\"C2\": \"1234568\", \"C1\": \"2345689\", \"C7\": \"2345678\", \"C6\": \"236789\",\n",
    "\"C5\": \"23456789\", \"C4\": \"345678\", \"E5\": \"678\", \"E4\": \"2\", \"F1\": \"1\",\n",
    "\"F2\": \"24\", \"F3\": \"24\", \"F4\": \"9\", \"F5\": \"37\", \"F6\": \"37\", \"F7\": \"58\",\n",
    "\"F8\": \"58\", \"F9\": \"6\", \"B4\": \"345678\", \"B5\": \"23456789\", \"B6\":\n",
    "\"236789\", \"B7\": \"2345678\", \"B1\": \"2345689\", \"B2\": \"1234568\", \"B3\":\n",
    "\"1234569\", \"B8\": \"3456789\", \"B9\": \"124578\", \"I9\": \"9\", \"I8\": \"345678\",\n",
    "\"I1\": \"2345678\", \"I3\": \"23456\", \"I2\": \"2345678\", \"I5\": \"2345678\",\n",
    "\"I4\": \"345678\", \"I7\": \"1\", \"I6\": \"23678\", \"A1\": \"2345689\", \"A3\": \"7\",\n",
    "\"A2\": \"234568\", \"E9\": \"3\", \"A4\": \"34568\", \"A7\": \"234568\", \"A6\":\n",
    "\"23689\", \"A9\": \"2458\", \"A8\": \"345689\", \"E7\": \"9\", \"E6\": \"4\", \"E1\":\n",
    "\"567\", \"E3\": \"56\", \"E2\": \"567\", \"E8\": \"1\", \"A5\": \"1\", \"H8\": \"345678\",\n",
    "\"H9\": \"24578\", \"H2\": \"12345678\", \"H3\": \"1234569\", \"H1\": \"23456789\",\n",
    "\"H6\": \"1236789\", \"H7\": \"2345678\", \"H4\": \"345678\", \"H5\": \"23456789\",\n",
    "\"D8\": \"2\", \"D9\": \"47\", \"D6\": \"5\", \"D7\": \"47\", \"D4\": \"1\", \"D5\": \"36\",\n",
    "\"D2\": \"9\", \"D3\": \"8\", \"D1\": \"36\"}"
   ]
  },
  {
   "cell_type": "code",
   "execution_count": 3,
   "metadata": {
    "collapsed": false,
    "deletable": true,
    "editable": true
   },
   "outputs": [
    {
     "name": "stdout",
     "output_type": "stream",
     "text": [
      " 2345689   234568     7    |  34568      1      23689  |  234568   345689    2458  \n",
      " 2345689  1234568  1234569 |  345678  23456789  236789 | 2345678  3456789   124578 \n",
      " 2345689  1234568  1234569 |  345678  23456789  236789 | 2345678  3456789   124578 \n",
      "---------------------------+---------------------------+---------------------------\n",
      "    36       9        8    |    1        36       5    |    47       2        47   \n",
      "   567      567       56   |    2       678       4    |    9        1        3    \n",
      "    1        24       24   |    9        37       37   |    58       58       6    \n",
      "---------------------------+---------------------------+---------------------------\n",
      " 23456789 12345678 1234569 |  345678  23456789 1236789 | 2345678   345678   24578  \n",
      " 23456789 12345678 1234569 |  345678  23456789 1236789 | 2345678   345678   24578  \n",
      " 2345678  2345678   23456  |  345678  2345678   23678  |    1      345678     9    \n"
     ]
    }
   ],
   "source": [
    "solution.display(values)"
   ]
  },
  {
   "cell_type": "code",
   "execution_count": 4,
   "metadata": {
    "collapsed": false,
    "deletable": true,
    "editable": true
   },
   "outputs": [],
   "source": [
    "rows = 'ABCDEFGHI'\n",
    "cols = '123456789'\n",
    "    \n",
    "_, unitlist, _, peers = solution.create_units(rows, cols)\n",
    "\n",
    "double_dgt_boxes = [box for box in values.keys() if len(values[box]) == 2]\n",
    "n_twins = [[box1, box2] for box1, box2 in itertools.combinations(double_dgt_boxes, 2) if values[box1] == values[box2]]\n",
    "for twins in n_twins:\n",
    "    digits = [values[box] for box in twins][0]\n",
    "    twin_peers = [peers[box] for box in twins]\n",
    "    unique_peers = list(set(twin_peers[0] & twin_peers[1]))\n",
    "    for box in unique_peers:\n",
    "        for digit in digits:\n",
    "            if len(values[box]) > 2:\n",
    "                values[box] = values[box].replace(digit, '')"
   ]
  },
  {
   "cell_type": "code",
   "execution_count": 5,
   "metadata": {
    "collapsed": false,
    "deletable": true,
    "editable": true
   },
   "outputs": [
    {
     "name": "stdout",
     "output_type": "stream",
     "text": [
      " 2345689   234568     7    |  34568      1      23689  |  234568   345689    2458  \n",
      " 2345689  1234568  1234569 |  345678  23456789  236789 | 2345678  3456789   124578 \n",
      " 2345689  1234568  1234569 |  345678  23456789  236789 | 2345678  3456789   124578 \n",
      "---------------------------+---------------------------+---------------------------\n",
      "    36       9        8    |    1        36       5    |    47       2        47   \n",
      "   567      567       56   |    2        68       4    |    9        1        3    \n",
      "    1        24       24   |    9        37       37   |    58       58       6    \n",
      "---------------------------+---------------------------+---------------------------\n",
      " 23456789 12345678 1234569 |  345678  23456789 1236789 | 2345678   345678   24578  \n",
      " 23456789 12345678 1234569 |  345678  23456789 1236789 | 2345678   345678   24578  \n",
      " 2345678  2345678   23456  |  345678  2345678   23678  |    1      345678     9    \n"
     ]
    }
   ],
   "source": [
    "solution.display(values)"
   ]
  },
  {
   "cell_type": "code",
   "execution_count": null,
   "metadata": {
    "collapsed": false,
    "deletable": true,
    "editable": true
   },
   "outputs": [],
   "source": []
  },
  {
   "cell_type": "code",
   "execution_count": null,
   "metadata": {
    "collapsed": false,
    "deletable": true,
    "editable": true
   },
   "outputs": [],
   "source": []
  },
  {
   "cell_type": "code",
   "execution_count": null,
   "metadata": {
    "collapsed": true,
    "deletable": true,
    "editable": true
   },
   "outputs": [],
   "source": [
    "box_pairs = [box for box in double_dgt_boxes if len(double_dgt_boxes) >= 2]\n",
    "twin_pairs = [box for box in box_pairs if values[box_pairs[0]] == values[box_pairs[1]]]"
   ]
  },
  {
   "cell_type": "code",
   "execution_count": null,
   "metadata": {
    "collapsed": true,
    "deletable": true,
    "editable": true
   },
   "outputs": [],
   "source": [
    "if twin_pairs != []:\n",
    "        digits = values[twin_pairs[0]]\n",
    "        for box in unit:\n",
    "            if box != twin_pairs[0] and box!= twin_pairs[1] and len(values[box]) >= 2:\n",
    "                for digit in digits:\n",
    "                    values[box] = values[box].replace(digit, '')"
   ]
  },
  {
   "cell_type": "code",
   "execution_count": null,
   "metadata": {
    "collapsed": false,
    "deletable": true,
    "editable": true
   },
   "outputs": [],
   "source": []
  },
  {
   "cell_type": "code",
   "execution_count": null,
   "metadata": {
    "collapsed": true,
    "deletable": true,
    "editable": true
   },
   "outputs": [],
   "source": []
  }
 ],
 "metadata": {
  "kernelspec": {
   "display_name": "Python 3",
   "language": "python",
   "name": "python3"
  },
  "language_info": {
   "codemirror_mode": {
    "name": "ipython",
    "version": 3
   },
   "file_extension": ".py",
   "mimetype": "text/x-python",
   "name": "python",
   "nbconvert_exporter": "python",
   "pygments_lexer": "ipython3",
   "version": "3.6.0"
  }
 },
 "nbformat": 4,
 "nbformat_minor": 2
}
